{
  "nbformat": 4,
  "nbformat_minor": 0,
  "metadata": {
    "colab": {
      "provenance": [],
      "gpuType": "T4",
      "authorship_tag": "ABX9TyMbE7n/HCv1yLpCRuViaRMC",
      "include_colab_link": true
    },
    "kernelspec": {
      "name": "python3",
      "display_name": "Python 3"
    },
    "language_info": {
      "name": "python"
    },
    "accelerator": "GPU"
  },
  "cells": [
    {
      "cell_type": "markdown",
      "metadata": {
        "id": "view-in-github",
        "colab_type": "text"
      },
      "source": [
        "<a href=\"https://colab.research.google.com/github/FalpClinicaTI/prueba_githubAction/blob/main/Tarea1_Analizando_datos_ventas_FernandoValdes.ipynb\" target=\"_parent\"><img src=\"https://colab.research.google.com/assets/colab-badge.svg\" alt=\"Open In Colab\"/></a>"
      ]
    },
    {
      "cell_type": "code",
      "execution_count": 1,
      "metadata": {
        "id": "iwkwYSazc0F0"
      },
      "outputs": [],
      "source": [
        "%%capture\n",
        "!pip install pyspark\n",
        "!pip install pyarrow"
      ]
    },
    {
      "cell_type": "code",
      "source": [
        "from google.colab import drive\n",
        "drive.mount(\"/content/gdrive\")\n",
        "gdrive='/content/gdrive/MyDrive/BigData/Clase1'"
      ],
      "metadata": {
        "colab": {
          "base_uri": "https://localhost:8080/"
        },
        "id": "HVXVfOvWdXYb",
        "outputId": "74382c45-24a8-4513-ee6e-720600e3602f"
      },
      "execution_count": 2,
      "outputs": [
        {
          "output_type": "stream",
          "name": "stdout",
          "text": [
            "Mounted at /content/gdrive\n"
          ]
        }
      ]
    },
    {
      "cell_type": "code",
      "source": [
        "from pyspark.sql import SparkSession\n",
        "from pyspark.sql.functions import min as pyspark_min, max as pyspark_max\n",
        "from pyspark.sql.functions import count, avg, col\n",
        "from pyspark.sql.functions import countDistinct\n",
        "from pyspark.sql.functions import desc\n",
        "from pyspark.sql import functions as F\n",
        "\n",
        "spark=SparkSession.builder.master(\"local[*]\").appName(\"tarea1\").getOrCreate()\n",
        "segmentacion = gdrive+'/Tabla_segmentacion.csv'\n",
        "pricing = gdrive+'/Tabla_pricing.csv'\n",
        "\n",
        "df_segmentacion = spark.read.csv(segmentacion, inferSchema=True, header =True,sep=\";\")\n",
        "df_pricing = spark.read.csv(pricing, inferSchema=True, header =True,sep=\";\")"
      ],
      "metadata": {
        "id": "YgphKCiIdugT"
      },
      "execution_count": 16,
      "outputs": []
    },
    {
      "cell_type": "code",
      "source": [
        "df_segmentacion.createOrReplaceTempView(\"segmentacion\")\n",
        "df_pricing.createOrReplaceTempView(\"pricing\")"
      ],
      "metadata": {
        "id": "8i6UAp1Ghs6t"
      },
      "execution_count": 7,
      "outputs": []
    },
    {
      "cell_type": "code",
      "source": [
        "# 1- Cuántos registros tienen ambos archivos\n",
        "df_count_seg = spark.sql(\"select count(*) as count_seg from segmentacion\")\n",
        "df_count_pricing = spark.sql(\"select count(*) as count_pricing from pricing\")\n",
        "\n",
        "count_seg = df_count_seg.first()[\"count_seg\"]\n",
        "count_pricing = df_count_pricing.first()[\"count_pricing\"]\n",
        "\n",
        "print(\"La cantidad de registros del archivo Segmentación es: \" + str(count_seg) +\n",
        "      \", y la cantidad de registros del archivo Precios es de: \" + str(count_pricing) +\n",
        "      \" la cantidad total de ambos archivos es: \" + str(count_seg + count_pricing))"
      ],
      "metadata": {
        "colab": {
          "base_uri": "https://localhost:8080/"
        },
        "id": "XUiquNtmh2pd",
        "outputId": "15c0fa05-6500-41ae-8b3f-bf51519a952e"
      },
      "execution_count": 12,
      "outputs": [
        {
          "output_type": "stream",
          "name": "stdout",
          "text": [
            "La cantidad de registros del archivo Segmentación es: 2805667, y la cantidad de registros del archivo Precios es de: 12581326 la cantidad total de ambos archivos es: 15386993\n"
          ]
        }
      ]
    },
    {
      "cell_type": "code",
      "source": [
        "# 2 - Identificar las familias de productos, concluyendo rangos mínimos y máximos de márgenes .\n",
        "df_pri_select = df_pricing.select(\"FAMILIA\", \"MARGEN\")\n",
        "\n",
        "resultados_familias = df_pri_select.groupBy(\"FAMILIA\").agg(\n",
        "    F.min(\"MARGEN\").alias(\"min_margen\"),\n",
        "    F.max(\"MARGEN\").alias(\"max_margen\")\n",
        ")\n",
        "\n",
        "resultados_familias.show(truncate=False)"
      ],
      "metadata": {
        "colab": {
          "base_uri": "https://localhost:8080/"
        },
        "id": "z2TeBnh-FAqi",
        "outputId": "c2253aad-076f-40ea-bc40-a0f563ba0840"
      },
      "execution_count": 13,
      "outputs": [
        {
          "output_type": "stream",
          "name": "stdout",
          "text": [
            "+-------+------------------+------------------+\n",
            "|FAMILIA|min_margen        |max_margen        |\n",
            "+-------+------------------+------------------+\n",
            "|12     |0.1306476481437908|0.6862996158770807|\n",
            "|1      |0.1306476481437908|0.6543916706056292|\n",
            "|13     |0.1306476481437908|0.5705853658536586|\n",
            "|6      |0.1306476481437908|0.9984176477444924|\n",
            "|3      |0.1306476481437908|0.5800000000000001|\n",
            "|5      |0.1306476481437908|0.9989324223337248|\n",
            "|9      |0.1306476481437908|0.7539181286549708|\n",
            "|4      |0.1306476481437908|0.8433924466193962|\n",
            "|8      |0.1306476481437908|0.9423213066112972|\n",
            "|7      |0.1306476481437908|0.6961444508475835|\n",
            "|10     |0.1306476481437908|0.9348571428571428|\n",
            "|11     |0.1306476481437908|0.6968634975081676|\n",
            "|2      |0.1306476481437908|0.9129213483146068|\n",
            "+-------+------------------+------------------+\n",
            "\n"
          ]
        }
      ]
    },
    {
      "cell_type": "code",
      "source": [
        "# 3 - Realizar la consulta SQL para contabilizar clientes por segmento y calcular el promedio\n",
        "tuplas_seg = df_segmentacion.groupBy(\"SEGMENTO\").agg(F.count(\"RUT_CLI\").alias(\"NUM_CLIENTES_SEG\"))\n",
        "tuplas_pri = df_pricing.groupBy(\"SEGMENTO\").agg(F.count(\"FAMILIA\").alias(\"NUM_CLIENTES_PRI\"))\n",
        "\n",
        "\n",
        "resultados_segmento = tuplas_seg.join(tuplas_pri, \"SEGMENTO\")\n",
        "resultados_segmento = resultados_segmento.withColumn(\"PROMEDIO_CLIENTES\", (F.col(\"NUM_CLIENTES_SEG\") + F.col(\"NUM_CLIENTES_PRI\")) / 2)\n",
        "\n",
        "# Imprimir resultados\n",
        "resultados_segmento.show(truncate=False)"
      ],
      "metadata": {
        "colab": {
          "base_uri": "https://localhost:8080/"
        },
        "id": "StODJlXsNvVr",
        "outputId": "f886af06-b344-46e5-e941-9dafe33a0d6e"
      },
      "execution_count": 18,
      "outputs": [
        {
          "output_type": "stream",
          "name": "stdout",
          "text": [
            "+--------+----------------+----------------+-----------------+\n",
            "|SEGMENTO|NUM_CLIENTES_SEG|NUM_CLIENTES_PRI|PROMEDIO_CLIENTES|\n",
            "+--------+----------------+----------------+-----------------+\n",
            "|45307   |1               |578             |289.5            |\n",
            "|35912   |1               |1445            |723.0            |\n",
            "|35982   |1               |2312            |1156.5           |\n",
            "|124647  |1               |578             |289.5            |\n",
            "|124967  |1               |578             |289.5            |\n",
            "|121854  |1               |578             |289.5            |\n",
            "|33868   |3               |1734            |868.5            |\n",
            "|36538   |4               |4046            |2025.0           |\n",
            "|124861  |1               |1156            |578.5            |\n",
            "|32855   |1               |1734            |867.5            |\n",
            "|124743  |1               |1156            |578.5            |\n",
            "|37111   |2               |1156            |579.0            |\n",
            "|35820   |1               |867             |434.0            |\n",
            "|75120   |2               |2023            |1012.5           |\n",
            "|75122   |1               |1156            |578.5            |\n",
            "|114503  |1               |578             |289.5            |\n",
            "|40011   |1               |1156            |578.5            |\n",
            "|38395   |2               |2023            |1012.5           |\n",
            "|125052  |1               |867             |434.0            |\n",
            "|40383   |2               |2023            |1012.5           |\n",
            "+--------+----------------+----------------+-----------------+\n",
            "only showing top 20 rows\n",
            "\n"
          ]
        }
      ]
    },
    {
      "cell_type": "code",
      "source": [
        "# 4 Realizar la consulta SQL para contar rubros distintos\n",
        "consulta_sql = \"\"\"SELECT COUNT(DISTINCT RUBRO) AS NUMERO_DE_RUBROS  FROM pricing\"\"\"\n",
        "\n",
        "resultados = spark.sql(consulta_sql)\n",
        "resultados.show()"
      ],
      "metadata": {
        "colab": {
          "base_uri": "https://localhost:8080/"
        },
        "id": "iwCToof9Sjei",
        "outputId": "9929b93b-f762-4bd6-81b7-6d819ede4ead"
      },
      "execution_count": 21,
      "outputs": [
        {
          "output_type": "stream",
          "name": "stdout",
          "text": [
            "+----------------+\n",
            "|NUMERO_DE_RUBROS|\n",
            "+----------------+\n",
            "|              17|\n",
            "+----------------+\n",
            "\n"
          ]
        }
      ]
    },
    {
      "cell_type": "code",
      "source": [
        "# 5 - Qué cliente es el que mayor precio tiene?\n",
        "cliente_mayor_precio = df_pricing.orderBy(F.desc(\"MARGEN\")).first()\n",
        "\n",
        "print(\"Cliente con el mayor precio:\")\n",
        "print(cliente_mayor_precio)"
      ],
      "metadata": {
        "colab": {
          "base_uri": "https://localhost:8080/"
        },
        "id": "9jZSwVGCTu79",
        "outputId": "c094d47d-159b-47bf-b12b-f3b76039441a"
      },
      "execution_count": 23,
      "outputs": [
        {
          "output_type": "stream",
          "name": "stdout",
          "text": [
            "Cliente con el mayor precio:\n",
            "Row(SEGMENTO=1, SUCURSAL='E523', RUBRO='C5 ', FAMILIA=5, SUBFAMILIA=11, PRODUCTO=None, JERARQUIA=2, MARGEN=0.9989324223337248, MARGEN_PRE_APRO=0.9989324223337248)\n"
          ]
        }
      ]
    },
    {
      "cell_type": "code",
      "source": [
        "# En base a las sucursales , cual tiene el mayor y menor margen ? ( en promedio)\n",
        "consulta_sql = \"\"\"\n",
        "    SELECT SUCURSAL, AVG(MARGEN) AS PROMEDIO_MARGEN\n",
        "    FROM pricing\n",
        "    GROUP BY SUCURSAL\n",
        "    ORDER BY PROMEDIO_MARGEN DESC\n",
        "    LIMIT 1\n",
        "\"\"\"\n",
        "resultados_mayor_margen = spark.sql(consulta_sql)\n",
        "print(\"Sucursal con el mayor margen:\")\n",
        "resultados_mayor_margen.show()\n",
        "\n",
        "consulta_sql = \"\"\"\n",
        "    SELECT SUCURSAL, AVG(MARGEN) AS PROMEDIO_MARGEN\n",
        "    FROM pricing\n",
        "    GROUP BY SUCURSAL\n",
        "    ORDER BY PROMEDIO_MARGEN ASC\n",
        "    LIMIT 1\n",
        "\"\"\"\n",
        "resultados_menor_margen = spark.sql(consulta_sql)\n",
        "\n",
        "print(\"Sucursal con el menor margen:\")\n",
        "resultados_menor_margen.show()"
      ],
      "metadata": {
        "colab": {
          "base_uri": "https://localhost:8080/"
        },
        "id": "ho3ERbVMXf7M",
        "outputId": "a7556327-eb9c-4b28-e5aa-8594af5df5f9"
      },
      "execution_count": 25,
      "outputs": [
        {
          "output_type": "stream",
          "name": "stdout",
          "text": [
            "Sucursal con el mayor margen:\n",
            "+--------+------------------+\n",
            "|SUCURSAL|   PROMEDIO_MARGEN|\n",
            "+--------+------------------+\n",
            "|    E550|0.3260823808111714|\n",
            "+--------+------------------+\n",
            "\n",
            "Sucursal con el menor margen:\n",
            "+--------+------------------+\n",
            "|SUCURSAL|   PROMEDIO_MARGEN|\n",
            "+--------+------------------+\n",
            "|    E576|0.2753196305799647|\n",
            "+--------+------------------+\n",
            "\n"
          ]
        }
      ]
    }
  ]
}